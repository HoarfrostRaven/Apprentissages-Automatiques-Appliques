{
  "nbformat": 4,
  "nbformat_minor": 0,
  "metadata": {
    "colab": {
      "provenance": [],
      "include_colab_link": true
    },
    "kernelspec": {
      "name": "python3",
      "display_name": "Python 3"
    },
    "language_info": {
      "name": "python"
    }
  },
  "cells": [
    {
      "cell_type": "markdown",
      "metadata": {
        "id": "view-in-github",
        "colab_type": "text"
      },
      "source": [
        "<a href=\"https://colab.research.google.com/github/HoarfrostRaven/Apprentissages-Automatiques-Appliques/blob/main/ReseauDeNeurones.ipynb\" target=\"_parent\"><img src=\"https://colab.research.google.com/assets/colab-badge.svg\" alt=\"Open In Colab\"/></a>"
      ]
    },
    {
      "cell_type": "code",
      "execution_count": null,
      "metadata": {
        "id": "em3tVYjVwFJd"
      },
      "outputs": [],
      "source": [
        "from __future__ import absolute_import, division, print_function\n",
        "\n",
        "import tensorflow as tf\n",
        "from tensorflow.keras import Model, layers\n",
        "import numpy as np\n",
        "import matplotlib.pyplot as plt\n",
        "import pandas as pd"
      ]
    },
    {
      "cell_type": "code",
      "source": [
        "# MNIST Data"
      ],
      "metadata": {
        "id": "dsU76Lslw34U"
      },
      "execution_count": null,
      "outputs": []
    },
    {
      "cell_type": "code",
      "source": [
        "# Prepare MNIST data.\n",
        "\n",
        "num_classes = 10\n",
        "num_features = 28*28\n",
        "\n",
        "\n",
        "from tensorflow.keras.datasets import mnist\n",
        "(X_train, Y_train), (X_test, Y_test) = mnist.load_data()\n"
      ],
      "metadata": {
        "colab": {
          "base_uri": "https://localhost:8080/"
        },
        "id": "v1DCzDLqw_tz",
        "outputId": "e37682d9-90fd-467e-c4e9-6ac7fe44b04c"
      },
      "execution_count": null,
      "outputs": [
        {
          "output_type": "stream",
          "name": "stdout",
          "text": [
            "Downloading data from https://storage.googleapis.com/tensorflow/tf-keras-datasets/mnist.npz\n",
            "11493376/11490434 [==============================] - 0s 0us/step\n",
            "11501568/11490434 [==============================] - 0s 0us/step\n"
          ]
        }
      ]
    },
    {
      "cell_type": "code",
      "source": [
        "plt.imshow(X_train[0,:], cmap=\"gray\")\n",
        "plt.title(f\"Numero:{Y_train[0]}\")"
      ],
      "metadata": {
        "colab": {
          "base_uri": "https://localhost:8080/",
          "height": 298
        },
        "id": "mfL1acysx6Ai",
        "outputId": "6e3da75a-f329-438a-a1a5-0213ceb0c665"
      },
      "execution_count": null,
      "outputs": [
        {
          "output_type": "execute_result",
          "data": {
            "text/plain": [
              "Text(0.5, 1.0, 'Numero:5')"
            ]
          },
          "metadata": {},
          "execution_count": 14
        },
        {
          "output_type": "display_data",
          "data": {
            "text/plain": [
              "<Figure size 432x288 with 1 Axes>"
            ],
            "image/png": "[encoded data removed]"
          },
          "metadata": {
            "needs_background": "light"
          }
        }
      ]
    },
    {
      "cell_type": "markdown",
      "source": [
        "Question 1 : En réutilisant le code ci-dessus, lister tous les numéros disponibles et les afficher\n"
      ],
      "metadata": {
        "id": "0_A_BtZMnV1Q"
      }
    },
    {
      "cell_type": "code",
      "source": [],
      "metadata": {
        "id": "mNx_1BzA1OO6"
      },
      "execution_count": null,
      "outputs": []
    },
    {
      "cell_type": "markdown",
      "source": [],
      "metadata": {
        "id": "9VGho2z81O07"
      }
    },
    {
      "cell_type": "code",
      "source": [
        "# Convert to float32.\n",
        "x_train, x_test = np.array(X_train, np.float32), np.array(X_test, np.float32)\n",
        "# Flatten images to 1-D vector of 784 features (28*28).\n",
        "x_train, x_test = x_train.reshape([-1, num_features]), x_test.reshape([-1, num_features])\n",
        "# Normalize images value from [0, 255] to [0, 1].\n",
        "x_train, x_test = x_train / 255., x_test / 255."
      ],
      "metadata": {
        "id": "sAZaKIjn0l7q"
      },
      "execution_count": null,
      "outputs": []
    },
    {
      "cell_type": "code",
      "source": [
        "x_train[0,:].shape"
      ],
      "metadata": {
        "colab": {
          "base_uri": "https://localhost:8080/"
        },
        "id": "RrBKr8EMx8F9",
        "outputId": "3e77e19e-5c8a-4fa4-fcdd-9fac19e10b5b"
      },
      "execution_count": null,
      "outputs": [
        {
          "output_type": "execute_result",
          "data": {
            "text/plain": [
              "(784,)"
            ]
          },
          "metadata": {},
          "execution_count": 16
        }
      ]
    },
    {
      "cell_type": "code",
      "source": [
        "# Cross-Entropy Loss.\n",
        "# Note that this will apply 'softmax' to the logits.\n",
        "def cross_entropy_loss(x, y):\n",
        "    # Convert labels to int 64 for tf cross-entropy function.\n",
        "    y = tf.cast(y, tf.int64)\n",
        "    # Apply softmax to logits and compute cross-entropy.\n",
        "    loss = tf.nn.sparse_softmax_cross_entropy_with_logits(labels=y, logits=x)\n",
        "    # Average loss across the batch.\n",
        "    return tf.reduce_mean(loss)\n",
        "\n",
        "# Accuracy metric.\n",
        "def accuracy(y_pred, y_true):\n",
        "    # Predicted class is the index of highest score in prediction vector (i.e. argmax).\n",
        "    correct_prediction = tf.equal(tf.argmax(y_pred, 1), tf.cast(y_true, tf.int64))\n",
        "    return tf.reduce_mean(tf.cast(correct_prediction, tf.float32), axis=-1)\n",
        "\n",
        "# Optimization process.\n",
        "def run_optimization(x, y, nnmodel):\n",
        "    # Wrap computation inside a GradientTape for automatic differentiation.\n",
        "    with tf.GradientTape() as g:\n",
        "        # Forward pass.\n",
        "        pred = nnmodel(x, is_training=True)\n",
        "        # Compute loss.\n",
        "        loss = cross_entropy_loss(pred, y)\n",
        "\n",
        "    # Variables to update, i.e. trainable variables.\n",
        "    trainable_variables = nnmodel.trainable_variables\n",
        "\n",
        "    # Compute gradients.\n",
        "    gradients = g.gradient(loss, trainable_variables)\n",
        "\n",
        "    # Update W and b following gradients.\n",
        "    optimizer.apply_gradients(zip(gradients, trainable_variables))\n",
        "\n",
        "\n",
        "\n",
        "# Training parameters.\n",
        "learning_rate = 0.1\n",
        "training_steps = 2000\n",
        "batch_size = 256\n",
        "display_step = 100\n",
        "\n",
        "\n",
        "# Stochastic gradient descent optimizer.\n",
        "optimizer = tf.optimizers.SGD(learning_rate)"
      ],
      "metadata": {
        "id": "zP8nUFFjyzOv"
      },
      "execution_count": null,
      "outputs": []
    },
    {
      "cell_type": "code",
      "source": [
        "\n",
        "\n",
        "# Use tf.data API to shuffle and batch data.\n",
        "batch_size = 256\n",
        "\n",
        "train_data = tf.data.Dataset.from_tensor_slices((x_train, Y_train))\n",
        "train_data = train_data.repeat().shuffle(5000).batch(batch_size).prefetch(1)\n",
        "\n",
        "\n"
      ],
      "metadata": {
        "id": "Mw6ptQz-zqa4"
      },
      "execution_count": null,
      "outputs": []
    },
    {
      "cell_type": "markdown",
      "source": [
        "#### I.MLP"
      ],
      "metadata": {
        "id": "Hl3IO0u36Wzg"
      }
    },
    {
      "cell_type": "code",
      "source": [
        "\n",
        "\n",
        "# Network parameters.\n",
        "n_hidden_1 = 128 # 1st layer number of neurons.\n",
        "n_hidden_2 = 256 # 2nd layer number of neurons.\n",
        "\n",
        "\n",
        "\n",
        "\n",
        "\n",
        "\n",
        "# Create TF Model.\n",
        "class NeuralNet(Model):\n",
        "    # Set layers.\n",
        "    def __init__(self):\n",
        "        super(NeuralNet, self).__init__()\n",
        "        # First fully-connected hidden layer.\n",
        "        self.fc1 = layers.Dense(n_hidden_1, activation=tf.nn.relu)\n",
        "        # First fully-connected hidden layer.\n",
        "        self.fc2 = layers.Dense(n_hidden_2, activation=tf.nn.relu)\n",
        "        # Second fully-connecter hidden layer.\n",
        "        self.out = layers.Dense(num_classes)\n",
        "\n",
        "    # Set forward pass.\n",
        "    def call(self, x, is_training=False):\n",
        "        x = self.fc1(x)\n",
        "        x = self.fc2(x)\n",
        "        x = self.out(x)\n",
        "        if not is_training:\n",
        "            # tf cross entropy expect logits without softmax, so only\n",
        "            # apply softmax when not training.\n",
        "            x = tf.nn.softmax(x)\n",
        "        return x\n",
        "\n",
        "\n",
        "\n",
        "# Build neural network model.\n",
        "neural_net = NeuralNet()\n",
        "\n",
        "\n",
        "\n",
        "\n",
        "# Run training for the given number of steps.\n",
        "for step, (batch_x, batch_y) in enumerate(train_data.take(training_steps), 1):\n",
        "    # Run the optimization to update W and b values.\n",
        "    run_optimization(batch_x, batch_y, neural_net)\n",
        "\n",
        "    if step % display_step == 0:\n",
        "        pred = neural_net(batch_x, is_training=True)\n",
        "        loss = cross_entropy_loss(pred, batch_y)\n",
        "        acc = accuracy(pred, batch_y)\n",
        "        print(\"step: %i, loss: %f, accuracy: %f\" % (step, loss, acc))"
      ],
      "metadata": {
        "colab": {
          "base_uri": "https://localhost:8080/"
        },
        "id": "UoJiv0Okzy-2",
        "outputId": "e7b98e4d-a306-43cd-8d1b-79c9040ee8a2"
      },
      "execution_count": null,
      "outputs": [
        {
          "output_type": "stream",
          "name": "stdout",
          "text": [
            "step: 100, loss: 0.486453, accuracy: 0.851562\n",
            "step: 200, loss: 0.307259, accuracy: 0.898438\n",
            "step: 300, loss: 0.348731, accuracy: 0.898438\n",
            "step: 400, loss: 0.151561, accuracy: 0.968750\n",
            "step: 500, loss: 0.160793, accuracy: 0.968750\n",
            "step: 600, loss: 0.177162, accuracy: 0.957031\n",
            "step: 700, loss: 0.202057, accuracy: 0.945312\n",
            "step: 800, loss: 0.127772, accuracy: 0.964844\n",
            "step: 900, loss: 0.213681, accuracy: 0.929688\n",
            "step: 1000, loss: 0.235038, accuracy: 0.941406\n",
            "step: 1100, loss: 0.135748, accuracy: 0.972656\n",
            "step: 1200, loss: 0.109042, accuracy: 0.964844\n",
            "step: 1300, loss: 0.095806, accuracy: 0.964844\n",
            "step: 1400, loss: 0.175273, accuracy: 0.945312\n",
            "step: 1500, loss: 0.101549, accuracy: 0.972656\n",
            "step: 1600, loss: 0.084277, accuracy: 0.968750\n",
            "step: 1700, loss: 0.181019, accuracy: 0.933594\n",
            "step: 1800, loss: 0.066869, accuracy: 0.988281\n",
            "step: 1900, loss: 0.088551, accuracy: 0.968750\n",
            "step: 2000, loss: 0.073737, accuracy: 0.984375\n"
          ]
        }
      ]
    },
    {
      "cell_type": "markdown",
      "source": [
        "Question 2 : Le code ci-dessus optimise un réseau de neurones données par défaut. Générer différents paramètres (nomnbre de neurones couche 1 et 2) et déterminer le meilleur de ces paramètre."
      ],
      "metadata": {
        "id": "7AhWG6rCny8X"
      }
    },
    {
      "cell_type": "markdown",
      "source": [
        "Question 3: Genéraliser la classe neural net pour avoir un nombre de hidden layer paramétrisable."
      ],
      "metadata": {
        "id": "O8Iono_UoQ-I"
      }
    },
    {
      "cell_type": "markdown",
      "source": [
        "Question 4: Faire de la classification / regression sur les jeux de données déjà étudié en utilisant les réseaux de neurones avec le code ci-dessus\n"
      ],
      "metadata": {
        "id": "50jvRH_conz7"
      }
    },
    {
      "cell_type": "code",
      "source": [],
      "metadata": {
        "id": "9biMDmdwoQII"
      },
      "execution_count": null,
      "outputs": []
    },
    {
      "cell_type": "code",
      "source": [],
      "metadata": {
        "id": "PDfED3swnx4E"
      },
      "execution_count": null,
      "outputs": []
    },
    {
      "cell_type": "code",
      "source": [
        "# Predict 3 images from validation set.\n",
        "n_images = 3\n",
        "test_images = x_test[:n_images]\n",
        "predictions = neural_net(test_images)\n",
        "\n",
        "# Display image and model prediction.\n",
        "for i in range(n_images):\n",
        "    plt.imshow(np.reshape(test_images[i], [28, 28]), cmap='gray')\n",
        "    plt.title(\"Model prediction: %i\" % np.argmax(predictions.numpy()[i]))\n",
        "    plt.show()\n"
      ],
      "metadata": {
        "colab": {
          "base_uri": "https://localhost:8080/",
          "height": 809
        },
        "id": "SBqsCKyK0V_1",
        "outputId": "e064cbbd-a124-43ff-9a96-e177a40e0106"
      },
      "execution_count": null,
      "outputs": [
        {
          "output_type": "display_data",
          "data": {
            "text/plain": [
              "<Figure size 432x288 with 1 Axes>"
            ],
            "image/png": "[encoded data removed]"
          },
          "metadata": {
            "needs_background": "light"
          }
        },
        {
          "output_type": "display_data",
          "data": {
            "text/plain": [
              "<Figure size 432x288 with 1 Axes>"
            ],
            "image/png": "[encoded data removed]"
          },
          "metadata": {
            "needs_background": "light"
          }
        },
        {
          "output_type": "display_data",
          "data": {
            "text/plain": [
              "<Figure size 432x288 with 1 Axes>"
            ],
            "image/png": "[encoded data removed]"
          },
          "metadata": {
            "needs_background": "light"
          }
        }
      ]
    },
    {
      "cell_type": "code",
      "source": [
        "pred = neural_net(x_test, is_training=False)\n",
        "\n",
        "score = [float(u[v]) for u, v in zip(np.array(pred), Y_test)]\n",
        "m = np.max(np.array(pred),axis=1)"
      ],
      "metadata": {
        "id": "2yhGSRuQ1zUb"
      },
      "execution_count": null,
      "outputs": []
    },
    {
      "cell_type": "code",
      "source": [
        "m"
      ],
      "metadata": {
        "colab": {
          "base_uri": "https://localhost:8080/"
        },
        "id": "pxvnBD3A2pg0",
        "outputId": "7253575e-39ef-460f-e6fb-dde89939458f"
      },
      "execution_count": null,
      "outputs": [
        {
          "output_type": "execute_result",
          "data": {
            "text/plain": [
              "array([0.9974406 , 0.98993886, 0.98339003, ..., 0.99929273, 0.99926907,\n",
              "       0.9999604 ], dtype=float32)"
            ]
          },
          "metadata": {},
          "execution_count": 56
        }
      ]
    },
    {
      "cell_type": "code",
      "source": [
        "scoring = pd.DataFrame({\"score\":score})\n",
        "scoring = scoring.sort_values(\"score\")"
      ],
      "metadata": {
        "id": "yXB1ByJh2q-Q"
      },
      "execution_count": null,
      "outputs": []
    },
    {
      "cell_type": "code",
      "source": [
        "# Check 3 worst predictions\n",
        "n_images = 5\n",
        "test_images = x_test[scoring.index[:n_images]]\n",
        "real = Y_test[scoring.index[:n_images]]\n",
        "predictions = neural_net(test_images)\n",
        "\n",
        "# Display image and model prediction.\n",
        "for i in range(n_images):\n",
        "    plt.imshow(np.reshape(test_images[i], [28, 28]), cmap='gray')\n",
        "    plt.title(f\"Model prediction: {np.argmax(predictions.numpy()[i])} / real: {real[i]}\")\n",
        "    plt.show()"
      ],
      "metadata": {
        "colab": {
          "base_uri": "https://localhost:8080/",
          "height": 1000
        },
        "id": "xjwVE7vF3kkh",
        "outputId": "adc55b9f-900d-477a-9ee1-acb2f489361c"
      },
      "execution_count": null,
      "outputs": [
        {
          "output_type": "display_data",
          "data": {
            "text/plain": [
              "<Figure size 432x288 with 1 Axes>"
            ],
            "image/png": "[encoded data removed]"
          },
          "metadata": {
            "needs_background": "light"
          }
        },
        {
          "output_type": "display_data",
          "data": {
            "text/plain": [
              "<Figure size 432x288 with 1 Axes>"
            ],
            "image/png": "[encoded data removed]"
          },
          "metadata": {
            "needs_background": "light"
          }
        },
        {
          "output_type": "display_data",
          "data": {
            "text/plain": [
              "<Figure size 432x288 with 1 Axes>"
            ],
            "image/png": "[encoded data removed]"
          },
          "metadata": {
            "needs_background": "light"
          }
        },
        {
          "output_type": "display_data",
          "data": {
            "text/plain": [
              "<Figure size 432x288 with 1 Axes>"
            ],
            "image/png": "[encoded data removed]"
          },
          "metadata": {
            "needs_background": "light"
          }
        },
        {
          "output_type": "display_data",
          "data": {
            "text/plain": [
              "<Figure size 432x288 with 1 Axes>"
            ],
            "image/png": "[encoded data removed]"
          },
          "metadata": {
            "needs_background": "light"
          }
        }
      ]
    },
    {
      "cell_type": "markdown",
      "source": [],
      "metadata": {
        "id": "416NHTcQocgC"
      }
    },
    {
      "cell_type": "code",
      "source": [],
      "metadata": {
        "id": "bsxxLLCsob3A"
      },
      "execution_count": null,
      "outputs": []
    },
    {
      "cell_type": "markdown",
      "source": [
        "#### II.CNN"
      ],
      "metadata": {
        "id": "B4KotfWX6lDA"
      }
    },
    {
      "cell_type": "markdown",
      "source": [
        "Question 5 : Reprendre les questions précédentes avec le CNN défini ci-dessous"
      ],
      "metadata": {
        "id": "dz46nwHSozGD"
      }
    },
    {
      "cell_type": "code",
      "source": [
        "# Create TF Model.\n",
        "class ConvNet(Model):\n",
        "    # Set layers.\n",
        "    def __init__(self):\n",
        "        super(ConvNet, self).__init__()\n",
        "        # Convolution Layer with 32 filters and a kernel size of 5.\n",
        "        self.conv1 = layers.Conv2D(32, kernel_size=5, activation=tf.nn.relu)\n",
        "        # Max Pooling (down-sampling) with kernel size of 2 and strides of 2.\n",
        "        self.maxpool1 = layers.MaxPool2D(2, strides=2)\n",
        "\n",
        "        # Convolution Layer with 64 filters and a kernel size of 3.\n",
        "        self.conv2 = layers.Conv2D(64, kernel_size=3, activation=tf.nn.relu)\n",
        "        # Max Pooling (down-sampling) with kernel size of 2 and strides of 2.\n",
        "        self.maxpool2 = layers.MaxPool2D(2, strides=2)\n",
        "\n",
        "        # Flatten the data to a 1-D vector for the fully connected layer.\n",
        "        self.flatten = layers.Flatten()\n",
        "\n",
        "        # Fully connected layer.\n",
        "        self.fc1 = layers.Dense(1024)\n",
        "        # Apply Dropout (if is_training is False, dropout is not applied).\n",
        "        self.dropout = layers.Dropout(rate=0.5)\n",
        "\n",
        "        # Output layer, class prediction.\n",
        "        self.out = layers.Dense(num_classes)\n",
        "\n",
        "    # Set forward pass.\n",
        "    def call(self, x, is_training=False):\n",
        "        x = tf.reshape(x, [-1, 28, 28, 1])\n",
        "        x = self.conv1(x)\n",
        "        x = self.maxpool1(x)\n",
        "        x = self.conv2(x)\n",
        "        x = self.maxpool2(x)\n",
        "        x = self.flatten(x)\n",
        "        x = self.fc1(x)\n",
        "        x = self.dropout(x, training=is_training)\n",
        "        x = self.out(x)\n",
        "        if not is_training:\n",
        "            # tf cross entropy expect logits without softmax, so only\n",
        "            # apply softmax when not training.\n",
        "            x = tf.nn.softmax(x)\n",
        "        return x\n",
        "\n",
        "# Build neural network model.\n",
        "conv_net = ConvNet()"
      ],
      "metadata": {
        "id": "RT-LSCdZ4Og2"
      },
      "execution_count": null,
      "outputs": []
    },
    {
      "cell_type": "code",
      "source": [
        "# Convert to float32.\n",
        "xc_train, xc_test = np.array(X_train, np.float32), np.array(X_test, np.float32)\n",
        "# Normalize images value from [0, 255] to [0, 1].\n",
        "xc_train, xc_test = xc_train / 255., xc_test / 255.\n",
        "\n",
        "\n",
        "\n",
        "# Use tf.data API to shuffle and batch data.\n",
        "train_datac = tf.data.Dataset.from_tensor_slices((xc_train, Y_train))\n",
        "train_datac = train_datac.repeat().shuffle(5000).batch(batch_size).prefetch(1)"
      ],
      "metadata": {
        "id": "vFfYpzmz69CK"
      },
      "execution_count": null,
      "outputs": []
    },
    {
      "cell_type": "code",
      "source": [
        "# Run training for the given number of steps.\n",
        "for step, (batch_x, batch_y) in enumerate(train_datac.take(training_steps), 1):\n",
        "    # Run the optimization to update W and b values.\n",
        "    run_optimization(batch_x, batch_y, conv_net)\n",
        "\n",
        "    if step % display_step == 0:\n",
        "        pred = conv_net(batch_x)\n",
        "        loss = cross_entropy_loss(pred, batch_y)\n",
        "        acc = accuracy(pred, batch_y)\n",
        "        print(\"step: %i, loss: %f, accuracy: %f\" % (step, loss, acc))"
      ],
      "metadata": {
        "colab": {
          "base_uri": "https://localhost:8080/"
        },
        "id": "GPgCE6hh6tEr",
        "outputId": "f20aed71-9bfa-4d81-90fa-47daf467f278"
      },
      "execution_count": null,
      "outputs": [
        {
          "output_type": "stream",
          "name": "stdout",
          "text": [
            "step: 100, loss: 1.562604, accuracy: 0.949219\n",
            "step: 200, loss: 1.529353, accuracy: 0.957031\n",
            "step: 300, loss: 1.510023, accuracy: 0.976562\n",
            "step: 400, loss: 1.516743, accuracy: 0.964844\n",
            "step: 500, loss: 1.493529, accuracy: 0.980469\n",
            "step: 600, loss: 1.488026, accuracy: 0.988281\n",
            "step: 700, loss: 1.492182, accuracy: 0.972656\n",
            "step: 800, loss: 1.479293, accuracy: 0.992188\n",
            "step: 900, loss: 1.484520, accuracy: 0.988281\n",
            "step: 1000, loss: 1.481455, accuracy: 0.996094\n",
            "step: 1100, loss: 1.480166, accuracy: 0.988281\n",
            "step: 1200, loss: 1.478563, accuracy: 0.996094\n",
            "step: 1300, loss: 1.478578, accuracy: 0.996094\n",
            "step: 1400, loss: 1.481069, accuracy: 0.984375\n",
            "step: 1500, loss: 1.479861, accuracy: 0.996094\n",
            "step: 1600, loss: 1.485790, accuracy: 0.988281\n",
            "step: 1700, loss: 1.472342, accuracy: 1.000000\n",
            "step: 1800, loss: 1.476607, accuracy: 0.992188\n",
            "step: 1900, loss: 1.470992, accuracy: 1.000000\n",
            "step: 2000, loss: 1.478075, accuracy: 0.992188\n"
          ]
        }
      ]
    },
    {
      "cell_type": "code",
      "source": [
        "predc= conv_net(xc_test, is_training=False)\n",
        "\n",
        "scorec = [float(u[v]) for u, v in zip(np.array(predc), Y_test)]\n",
        "scoringc = pd.DataFrame({\"score\":scorec})\n",
        "scoringc = scoring.sort_values(\"score\")"
      ],
      "metadata": {
        "id": "Bdc2TeWL6wcY"
      },
      "execution_count": null,
      "outputs": []
    },
    {
      "cell_type": "code",
      "source": [
        "# Check 3 worst predictions\n",
        "n_images = 5\n",
        "test_imagesc = xc_test[scoringc.index[:n_images]]\n",
        "real = Y_test[scoringc.index[:n_images]]\n",
        "predictionsc = conv_net(test_imagesc)\n",
        "\n",
        "# Display image and model prediction.\n",
        "for i in range(n_images):\n",
        "    plt.imshow(np.reshape(test_imagesc[i], [28, 28]), cmap='gray')\n",
        "    plt.title(f\"Model prediction: {np.argmax(predictionsc.numpy()[i])} / real: {real[i]}\")\n",
        "    plt.show()"
      ],
      "metadata": {
        "colab": {
          "base_uri": "https://localhost:8080/",
          "height": 1000
        },
        "id": "IfZILnls-kaj",
        "outputId": "a95a2be4-8b4f-4eca-e753-1130b781102b"
      },
      "execution_count": null,
      "outputs": [
        {
          "output_type": "display_data",
          "data": {
            "text/plain": [
              "<Figure size 432x288 with 1 Axes>"
            ],
            "image/png": "[encoded data removed]"
          },
          "metadata": {
            "needs_background": "light"
          }
        },
        {
          "output_type": "display_data",
          "data": {
            "text/plain": [
              "<Figure size 432x288 with 1 Axes>"
            ],
            "image/png": "[encoded data removed]"
          },
          "metadata": {
            "needs_background": "light"
          }
        },
        {
          "output_type": "display_data",
          "data": {
            "text/plain": [
              "<Figure size 432x288 with 1 Axes>"
            ],
            "image/png": "[encoded data removed]"
          },
          "metadata": {
            "needs_background": "light"
          }
        },
        {
          "output_type": "display_data",
          "data": {
            "text/plain": [
              "<Figure size 432x288 with 1 Axes>"
            ],
            "image/png": "[encoded data removed]"
          },
          "metadata": {
            "needs_background": "light"
          }
        },
        {
          "output_type": "display_data",
          "data": {
            "text/plain": [
              "<Figure size 432x288 with 1 Axes>"
            ],
            "image/png": "[encoded data removed]"
          },
          "metadata": {
            "needs_background": "light"
          }
        }
      ]
    },
    {
      "cell_type": "code",
      "source": [],
      "metadata": {
        "id": "PhErFcXR--Io"
      },
      "execution_count": null,
      "outputs": []
    }
  ]
}